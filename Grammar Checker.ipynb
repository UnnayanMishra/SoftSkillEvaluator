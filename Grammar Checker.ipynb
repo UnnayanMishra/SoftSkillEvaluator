{
 "cells": [
  {
   "cell_type": "code",
   "execution_count": 2,
   "id": "92c8a996-9b97-4a20-b31d-ff8a6669838b",
   "metadata": {},
   "outputs": [],
   "source": [
    "import language_tool_python"
   ]
  },
  {
   "cell_type": "code",
   "execution_count": 3,
   "id": "cf5b7297-af78-4f83-9b9c-5f5c0d2818d9",
   "metadata": {},
   "outputs": [
    {
     "name": "stdin",
     "output_type": "stream",
     "text": [
      "Enter the text to be checked for grammar errors:  I went to college especially for diwali\n"
     ]
    },
    {
     "name": "stdout",
     "output_type": "stream",
     "text": [
      "Error: MORFOLOGIK_RULE_EN_US\n",
      "Message: Possible spelling mistake found.\n",
      "Suggestions: ['Diwali', 'dial', 'Dial', 'dials', 'Dali', 'Kigali', 'Denali', 'Dalí', 'Tiwari']\n",
      "-----------\n"
     ]
    }
   ],
   "source": [
    "def grammar_check(text):\n",
    "\n",
    "    tool = language_tool_python.LanguageTool('en-US')\n",
    "\n",
    "    matches = tool.check(text)\n",
    "\n",
    "    for match in matches:\n",
    "        print(\"Error:\", match.ruleId)\n",
    "        print(\"Message:\", match.message)\n",
    "        print(\"Suggestions:\", match.replacements)\n",
    "        print(\"-----------\")\n",
    "\n",
    "input_text = input(\"Enter the text to be checked for grammar errors: \")\n",
    "grammar_check(input_text)\n"
   ]
  },
  {
   "cell_type": "code",
   "execution_count": null,
   "id": "d6700f5d-25fa-4377-9406-6689967a0855",
   "metadata": {},
   "outputs": [],
   "source": []
  }
 ],
 "metadata": {
  "kernelspec": {
   "display_name": "Python 3 (ipykernel)",
   "language": "python",
   "name": "python3"
  },
  "language_info": {
   "codemirror_mode": {
    "name": "ipython",
    "version": 3
   },
   "file_extension": ".py",
   "mimetype": "text/x-python",
   "name": "python",
   "nbconvert_exporter": "python",
   "pygments_lexer": "ipython3",
   "version": "3.11.1"
  }
 },
 "nbformat": 4,
 "nbformat_minor": 5
}
