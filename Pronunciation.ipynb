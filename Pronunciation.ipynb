{
 "cells": [
  {
   "cell_type": "code",
   "execution_count": 1,
   "id": "7c5d9586-87b1-40a6-b374-b1ddf64e673b",
   "metadata": {},
   "outputs": [],
   "source": [
    "import speech_recognition as sr"
   ]
  },
  {
   "cell_type": "code",
   "execution_count": 16,
   "id": "946a4f79-a47b-4f73-81c3-d7c3cf942e13",
   "metadata": {},
   "outputs": [
    {
     "name": "stdout",
     "output_type": "stream",
     "text": [
      "Say something:\n",
      "Recording complete.\n",
      "Sorry, could not understand audio.\n"
     ]
    }
   ],
   "source": [
    "def recognize_speech():\n",
    "    recognizer = sr.Recognizer()\n",
    "\n",
    "    with sr.Microphone() as source:\n",
    "        print(\"Say something:\")\n",
    "        try:\n",
    "            # Record audio for 10 seconds\n",
    "            audio = recognizer.listen(source, timeout=10)\n",
    "            print(\"Recording complete.\")\n",
    "        except sr.WaitTimeoutError:\n",
    "            print(\"Recording timed out after 10 seconds.\")\n",
    "            return None\n",
    "\n",
    "    try:\n",
    "        text = recognizer.recognize_google(audio)\n",
    "        print(\"You said:\", text)\n",
    "        return text\n",
    "    except sr.UnknownValueError:\n",
    "        print(\"Sorry, could not understand audio.\")\n",
    "        return None\n",
    "    except sr.RequestError as e:\n",
    "        print(\"Error connecting to Google API: {0}\".format(e))\n",
    "        return None\n",
    "import os\n",
    "from gtts import gTTS\n",
    "import pygame\n",
    "\n",
    "def check_pronunciation(original_text, recognized_text):\n",
    "    print(\"\\nOriginal Text:\", original_text)\n",
    "    print(\"Recognized Text:\", recognized_text)\n",
    "\n",
    "    if original_text.lower() == recognized_text.lower():\n",
    "        print(\"Pronunciation is correct!\")\n",
    "    else:\n",
    "        print(\"Pronunciation is incorrect.\")\n",
    "\n",
    "        # Text-to-Speech synthesis for the correct pronunciation\n",
    "        tts = gTTS(original_text)\n",
    "        tts.save(\"correct_pronunciation.mp3\")\n",
    "\n",
    "        # Use pygame for asynchronous audio playback\n",
    "        pygame.mixer.init()\n",
    "        pygame.mixer.music.load(\"correct_pronunciation.mp3\")\n",
    "        pygame.mixer.music.play()\n",
    "\n",
    "        # Wait for the audio to finish playing\n",
    "        while pygame.mixer.music.get_busy():\n",
    "            pygame.time.Clock().tick(10)\n",
    "\n",
    "if __name__ == \"__main__\":\n",
    "    original_text = \"Puree\"\n",
    "    recognized_text = recognize_speech()\n",
    "\n",
    "    if recognized_text:\n",
    "        check_pronunciation(original_text, recognized_text)\n"
   ]
  },
  {
   "cell_type": "code",
   "execution_count": null,
   "id": "971afb1e-efbd-454c-874c-fa1dca659aac",
   "metadata": {},
   "outputs": [],
   "source": []
  },
  {
   "cell_type": "code",
   "execution_count": null,
   "id": "97741910-f226-4b32-88f6-ac7c9afe76cd",
   "metadata": {},
   "outputs": [],
   "source": []
  }
 ],
 "metadata": {
  "kernelspec": {
   "display_name": "Python 3 (ipykernel)",
   "language": "python",
   "name": "python3"
  },
  "language_info": {
   "codemirror_mode": {
    "name": "ipython",
    "version": 3
   },
   "file_extension": ".py",
   "mimetype": "text/x-python",
   "name": "python",
   "nbconvert_exporter": "python",
   "pygments_lexer": "ipython3",
   "version": "3.11.1"
  }
 },
 "nbformat": 4,
 "nbformat_minor": 5
}
